{
 "cells": [
  {
   "cell_type": "markdown",
   "id": "f812e873",
   "metadata": {},
   "source": [
    "#### Импорт библиотек\n",
    "random - библиотека для генерации случайных величин\n",
    "\n",
    "networkx - библиотека для генерации/визуализации графов\n",
    "\n",
    "matplotlib - библиотека для визуализации(графиков)\n",
    "\n",
    "numpy - библиотека для математических операций\n",
    "\n",
    "ipywidgets - библиотека для интерфейса\n",
    "\n",
    "IPython.display - библиотека для управления выводом"
   ]
  },
  {
   "cell_type": "code",
   "execution_count": 1,
   "id": "f4b477c3",
   "metadata": {},
   "outputs": [],
   "source": [
    "import random\n",
    "import networkx as nx\n",
    "import matplotlib.pyplot as plt\n",
    "import numpy as np\n",
    "import ipywidgets as widgets\n",
    "from IPython.display import display, clear_output"
   ]
  },
  {
   "cell_type": "markdown",
   "id": "c0b53a24",
   "metadata": {},
   "source": [
    "#### Параметры для работы"
   ]
  },
  {
   "cell_type": "code",
   "execution_count": 2,
   "id": "266fc889",
   "metadata": {},
   "outputs": [],
   "source": [
    "state = {\n",
    "    \"graph\": None,\n",
    "    \"edges\": None,\n",
    "    \"population\": None,\n",
    "    \"best_scores\": [],\n",
    "    \"mean_scores\": [],\n",
    "    \"generation\": 0,\n",
    "    \"params\": {\n",
    "        \"num_vertices\": 10,\n",
    "        \"num_edges\": 15,\n",
    "        \"pop_size\": 20,\n",
    "        \"generations\": 30,\n",
    "        \"mutation_rate\": 0.1,\n",
    "        \"selection_method\": \"tournament\"\n",
    "    }\n",
    "}"
   ]
  },
  {
   "cell_type": "markdown",
   "id": "3d21e664",
   "metadata": {},
   "source": [
    "#### Функция для генерации неориентированного графа"
   ]
  },
  {
   "cell_type": "code",
   "execution_count": 3,
   "id": "eddf10e1",
   "metadata": {},
   "outputs": [],
   "source": [
    "def generate_graph(num_vertices, num_edges):\n",
    "    G = nx.Graph()\n",
    "    G.add_nodes_from(range(num_vertices))\n",
    "    while G.number_of_edges() < num_edges:\n",
    "        u, v = random.sample(range(num_vertices), 2)\n",
    "        G.add_edge(u, v)\n",
    "    return G"
   ]
  },
  {
   "cell_type": "markdown",
   "id": "382bc49b",
   "metadata": {},
   "source": [
    "#### Функция для генерации хромосомы(вектор из 0/1)"
   ]
  },
  {
   "cell_type": "code",
   "execution_count": 4,
   "id": "1de730a3",
   "metadata": {},
   "outputs": [],
   "source": [
    "def generate_individual(num_vertices):\n",
    "    return [random.choice([0, 1]) for _ in range(num_vertices)]"
   ]
  },
  {
   "cell_type": "markdown",
   "id": "646d12fb",
   "metadata": {},
   "source": [
    "#### Функция приспособленности"
   ]
  },
  {
   "cell_type": "code",
   "execution_count": 5,
   "id": "62412cb7",
   "metadata": {},
   "outputs": [],
   "source": [
    "def fitness(individual, edges):\n",
    "    uncovered = sum(1 for u, v in edges if not (individual[u] or individual[v]))\n",
    "    penalty = 10\n",
    "    return - (sum(individual) + penalty * uncovered)"
   ]
  },
  {
   "cell_type": "markdown",
   "id": "a80b18a9",
   "metadata": {},
   "source": [
    "#### Функция для генерации популяции"
   ]
  },
  {
   "cell_type": "code",
   "execution_count": 6,
   "id": "d5c0776b",
   "metadata": {},
   "outputs": [],
   "source": [
    "def generate_population(size, num_vertices):\n",
    "    return [generate_individual(num_vertices) for _ in range(size)]"
   ]
  },
  {
   "cell_type": "markdown",
   "id": "39141cd9",
   "metadata": {},
   "source": [
    "#### Функции для скрещивания и мутации"
   ]
  },
  {
   "cell_type": "code",
   "execution_count": 7,
   "id": "71f1c8ec",
   "metadata": {},
   "outputs": [],
   "source": [
    "def crossover(p1, p2):\n",
    "    point = random.randint(1, len(p1) - 1)\n",
    "    return p1[:point] + p2[point:]\n",
    "\n",
    "def mutate(ind, rate):\n",
    "    return [(1 - g) if random.random() < rate else g for g in ind]\n"
   ]
  },
  {
   "cell_type": "markdown",
   "id": "36b46879",
   "metadata": {},
   "source": [
    "#### Функции турнирного и рулетного отбора"
   ]
  },
  {
   "cell_type": "code",
   "execution_count": 8,
   "id": "edc9fe3c",
   "metadata": {},
   "outputs": [],
   "source": [
    "def tournament_selection(pop, scores):\n",
    "    i1, i2 = random.sample(range(len(pop)), 2)\n",
    "    return pop[i1] if scores[i1] > scores[i2] else pop[i2]"
   ]
  },
  {
   "cell_type": "code",
   "execution_count": 9,
   "id": "7acdd159",
   "metadata": {},
   "outputs": [],
   "source": [
    "def roulette_selection(population, scores):\n",
    "    min_score = min(scores)\n",
    "    shifted = [s - min_score + 1e-6 for s in scores]\n",
    "    total = sum(shifted)\n",
    "    probs = [s / total for s in shifted]\n",
    "    idx = np.random.choice(len(population), p=probs)\n",
    "    return population[idx]"
   ]
  },
  {
   "cell_type": "markdown",
   "id": "885b116d",
   "metadata": {},
   "source": [
    "#### Функция для одного поколения"
   ]
  },
  {
   "cell_type": "code",
   "execution_count": 10,
   "id": "f8dceac9",
   "metadata": {},
   "outputs": [],
   "source": [
    "def step_ga():\n",
    "    pop = state[\"population\"]\n",
    "    edges = state[\"edges\"]\n",
    "    m_rate = state[\"params\"][\"mutation_rate\"]\n",
    "    method = state[\"params\"].get(\"selection_method\", \"tournament\")\n",
    "    scores = [fitness(ind, edges) for ind in pop]\n",
    "    new_pop = []\n",
    "    for _ in range(len(pop)):\n",
    "        if method == 'roulette':\n",
    "            p1 = roulette_selection(pop, scores)\n",
    "            p2 = roulette_selection(pop, scores)\n",
    "        else:\n",
    "            p1 = tournament_selection(pop, scores)\n",
    "            p2 = tournament_selection(pop, scores)\n",
    "        child = crossover(p1, p2)\n",
    "        child = mutate(child, m_rate)\n",
    "        new_pop.append(child)\n",
    "    state[\"population\"] = new_pop\n",
    "    state[\"best_scores\"].append(max(scores))\n",
    "    state[\"mean_scores\"].append(np.mean(scores))\n",
    "    state[\"generation\"] += 1\n"
   ]
  },
  {
   "cell_type": "markdown",
   "id": "f4cfb6cd",
   "metadata": {},
   "source": [
    "#### Визуализация"
   ]
  },
  {
   "cell_type": "code",
   "execution_count": 11,
   "id": "24ee592c",
   "metadata": {},
   "outputs": [],
   "source": [
    "def visualize_graph(G, cover):\n",
    "    pos = nx.spring_layout(G, seed=42)\n",
    "    color_map = ['lightgreen' if cover[node] else 'lightgrey' for node in G.nodes]\n",
    "    plt.figure(figsize=(6, 5))\n",
    "    nx.draw_networkx(G, pos, node_color=color_map, node_size=600, with_labels=True)\n",
    "    plt.title(\"Вершинное покрытие\")\n",
    "    plt.axis(\"off\")\n",
    "    plt.show()\n",
    "\n",
    "def plot_fitness():\n",
    "    best = state[\"best_scores\"]\n",
    "    mean = state[\"mean_scores\"]\n",
    "\n",
    "    plt.figure(figsize=(7, 4))\n",
    "    plt.plot(best, marker='o', label='Best fitness', color='royalblue', linewidth=2)\n",
    "    plt.plot(mean, marker='s', label='Average fitness', color='darkorange', linewidth=2)\n",
    "    plt.xlabel('Поколение')\n",
    "    plt.ylabel('Fitness (больше — лучше)')\n",
    "    plt.title(\"Динамика приспособленности\")\n",
    "    plt.grid(True, linestyle='--', alpha=0.5)\n",
    "    plt.legend()\n",
    "    plt.tight_layout()\n",
    "    plt.show()\n"
   ]
  },
  {
   "cell_type": "markdown",
   "id": "8e171429",
   "metadata": {},
   "source": [
    "#### Main core программы"
   ]
  },
  {
   "cell_type": "code",
   "execution_count": 12,
   "id": "54385c8b",
   "metadata": {},
   "outputs": [
    {
     "data": {
      "application/vnd.jupyter.widget-view+json": {
       "model_id": "1aa925cad0a9421eaa1a918660f2bdea",
       "version_major": 2,
       "version_minor": 0
      },
      "text/plain": [
       "VBox(children=(IntText(value=10, description='Вершины:'), IntText(value=15, description='Рёбра:'), IntText(val…"
      ]
     },
     "metadata": {},
     "output_type": "display_data"
    }
   ],
   "source": [
    "def show_min_covers():\n",
    "    pop = state[\"population\"]\n",
    "    min_size = min(sum(ind) for ind in pop)\n",
    "    min_covers = [ind for ind in pop if sum(ind) == min_size]\n",
    "    print(f\"\\n Минимальный размер покрытия: {min_size}\")\n",
    "    print(\"Список всех покрытий этого размера:\")\n",
    "    for cov in min_covers:\n",
    "        print(cov)\n",
    "\n",
    "vertex_input       = widgets.IntText(value=10, description=\"Вершины:\")\n",
    "edge_input         = widgets.IntText(value=15, description=\"Рёбра:\")\n",
    "pop_input          = widgets.IntText(value=20, description=\"Популяция:\")\n",
    "gen_input          = widgets.IntText(value=30, description=\"Поколения:\")\n",
    "mut_input          = widgets.FloatText(value=0.1, description=\"Мутация:\")\n",
    "skip_input         = widgets.IntText(value=5,  description=\"Шагов пропустить:\")\n",
    "selection_dropdown = widgets.Dropdown(\n",
    "    options=[('Турнир', 'tournament'), ('Рулетка', 'roulette')],\n",
    "    value='tournament',\n",
    "    description='Селекция:'\n",
    ")\n",
    "edges_display      = widgets.Textarea(\n",
    "    value='',\n",
    "    description='Список рёбер:',\n",
    "    layout=widgets.Layout(width='100%', height='100px'),\n",
    "    disabled=True\n",
    ")\n",
    "start_btn          = widgets.Button(description=\"Сгенерировать граф\")\n",
    "step_btn           = widgets.Button(description=\"Следующий шаг\")\n",
    "skip_btn           = widgets.Button(description=\"Пропустить N поколений\")\n",
    "output_area        = widgets.Output()\n",
    "\n",
    "def initialize(_):\n",
    "    with output_area:\n",
    "        clear_output()\n",
    "        state[\"params\"].update({\n",
    "            \"num_vertices\":    vertex_input.value,\n",
    "            \"num_edges\":       edge_input.value,\n",
    "            \"pop_size\":        pop_input.value,\n",
    "            \"generations\":     gen_input.value,\n",
    "            \"mutation_rate\":   mut_input.value,\n",
    "            \"selection_method\":selection_dropdown.value\n",
    "        })\n",
    "        G = generate_graph(vertex_input.value, edge_input.value)\n",
    "        pop = generate_population(pop_input.value, vertex_input.value)\n",
    "        state.update({\n",
    "            \"graph\":       G,\n",
    "            \"edges\":       list(G.edges()),\n",
    "            \"population\":  pop,\n",
    "            \"best_scores\": [],\n",
    "            \"mean_scores\": [],\n",
    "            \"generation\":  0\n",
    "        })\n",
    "        edges_display.value = '\\n'.join(f\"{u} — {v}\" for u, v in state[\"edges\"])\n",
    "        print(\"Граф сгенерирован. Список рёбер обновлён.\")\n",
    "\n",
    "def _do_steps(count):\n",
    "    for _ in range(count):\n",
    "        step_ga()\n",
    "    best = max(state[\"population\"], key=lambda ind: fitness(ind, state[\"edges\"]))\n",
    "    covered = sum(1 for u, v in state[\"edges\"] if best[u] or best[v])\n",
    "    total   = len(state[\"edges\"])\n",
    "    size    = sum(best)\n",
    "    fit_val = fitness(best, state[\"edges\"])\n",
    "    print(f\"Поколение {state['generation']}\")\n",
    "    print(f\"Лучшее решение: {best}\")\n",
    "    print(f\"Размер покрытия: {size}\")\n",
    "    print(f\"Покрыто рёбер: {covered}/{total} ({covered/total:.2%})\")\n",
    "    print(f\"Fitness: {fit_val:.4f}\")\n",
    "    visualize_graph(state[\"graph\"], best)\n",
    "    plot_fitness()\n",
    "\n",
    "def next_step(_):\n",
    "    with output_area:\n",
    "        clear_output()\n",
    "        if state[\"generation\"] < state[\"params\"][\"generations\"]:\n",
    "            _do_steps(1)\n",
    "        else:\n",
    "            print(\"Максимум поколений достигнут.\")\n",
    "            show_min_covers()\n",
    "\n",
    "def skip_steps(_):\n",
    "    with output_area:\n",
    "        clear_output()\n",
    "        to_run = min(skip_input.value, state[\"params\"][\"generations\"] - state[\"generation\"])\n",
    "        if to_run <= 0:\n",
    "            print(\"Поколения закончились.\")\n",
    "            show_min_covers()\n",
    "        else:\n",
    "            _do_steps(to_run)\n",
    "            if state[\"generation\"] == state[\"params\"][\"generations\"]:\n",
    "                show_min_covers()\n",
    "\n",
    "start_btn.on_click(initialize)\n",
    "step_btn.on_click(next_step)\n",
    "skip_btn.on_click(skip_steps)\n",
    "\n",
    "display(widgets.VBox([\n",
    "    vertex_input, edge_input, pop_input, gen_input, mut_input,\n",
    "    selection_dropdown,\n",
    "    widgets.HBox([skip_input, skip_btn]),\n",
    "    widgets.HBox([start_btn, step_btn]),\n",
    "    edges_display,\n",
    "    output_area\n",
    "]))"
   ]
  },
  {
   "cell_type": "code",
   "execution_count": null,
   "id": "71ae205c",
   "metadata": {},
   "outputs": [],
   "source": []
  },
  {
   "cell_type": "code",
   "execution_count": null,
   "id": "7f9a2787",
   "metadata": {},
   "outputs": [],
   "source": []
  },
  {
   "cell_type": "code",
   "execution_count": null,
   "id": "4e76e61d",
   "metadata": {},
   "outputs": [],
   "source": []
  }
 ],
 "metadata": {
  "kernelspec": {
   "display_name": "Python 3 (ipykernel)",
   "language": "python",
   "name": "python3"
  },
  "language_info": {
   "codemirror_mode": {
    "name": "ipython",
    "version": 3
   },
   "file_extension": ".py",
   "mimetype": "text/x-python",
   "name": "python",
   "nbconvert_exporter": "python",
   "pygments_lexer": "ipython3",
   "version": "3.11.3"
  }
 },
 "nbformat": 4,
 "nbformat_minor": 5
}
